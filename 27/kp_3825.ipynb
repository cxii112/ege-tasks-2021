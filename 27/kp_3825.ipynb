{
 "metadata": {
  "language_info": {
   "codemirror_mode": {
    "name": "ipython",
    "version": 3
   },
   "file_extension": ".py",
   "mimetype": "text/x-python",
   "name": "python",
   "nbconvert_exporter": "python",
   "pygments_lexer": "ipython3",
   "version": "3.9.2"
  },
  "orig_nbformat": 2,
  "kernelspec": {
   "name": "python392jvsc74a57bd0aee8b7b246df8f9039afb4144a1f6fd8d2ca17a180786b69acc140d282b71a49",
   "display_name": "Python 3.9.2 64-bit"
  }
 },
 "nbformat": 4,
 "nbformat_minor": 2,
 "cells": [
  {
   "source": [
    "# № 3825\n",
    "Автор: А. Кабанов\n",
    "\n",
    "[Ссылка на подборку заданий][kp-tasks]\n",
    "\n",
    "## Задание \n",
    "В файле записана последовательность натуральных чисел. Гарантируется, что все числа различны. Рассматриваются всевозможные группы чисел, состоящие из любого количества элементов последовательности. Необходимо найти наибольшую сумму такой группы, заканчивающуюся на 50. Программа должна вывести эту сумму.\n",
    "Входные данные. Даны два входных файла ([файл A][file-a-link] и [файл B][file-b-link]), каждый из которых содержит в первой строке количество чисел N (1 ≤ N ≤ 100000). Каждая из следующих N строк содержит одно натуральное число, не превышающее 10^8^.\n",
    "Пример входного файла:\n",
    "\n",
    "```\n",
    "6\n",
    "21\n",
    "29\n",
    "12\n",
    "72\n",
    "14\n",
    "28\n",
    "```\n",
    "\n",
    "Для указанных данных можно выбрать следующие группы: `{21, 29}`; `{21, 29, 72, 28}`. Суммы элементов данных групп равны 50 и 150. Программа должна вывести наибольшую из этих сумм – `150`.\n",
    "В ответе укажите два числа: сначала искомое значение для файла А, затем для файла B.\n",
    "\n",
    "<details>\n",
    "    A: 850\n",
    "    <br>\n",
    "    B: 5036250\n",
    "    <summary>Ответ</summary>\n",
    "</details>\n",
    "\n",
    "\n",
    "[kp-tasks]: https://kpolyakov.spb.ru/school/ege/gen.php?action=viewAllEgeNo&egeId=27&cat161=on\n",
    "[file-a-link]: https://kpolyakov.spb.ru/cms/files/ege-stream/61/27-61a.txt\n",
    "[file-b-link]: https://kpolyakov.spb.ru/cms/files/ege-stream/61/27-61b.txt"
   ],
   "cell_type": "markdown",
   "metadata": {}
  },
  {
   "cell_type": "code",
   "execution_count": 131,
   "metadata": {},
   "outputs": [],
   "source": [
    "from multiprocessing import Pool"
   ]
  },
  {
   "cell_type": "code",
   "execution_count": 132,
   "metadata": {},
   "outputs": [],
   "source": [
    "FILE_STREAM_SETTINGS = {\n",
    "    'open': 'rt'\n",
    "}\n",
    "FILE_TEST = '../Source/27-61t.txt'\n",
    "FILE_A = '../Source/27-61a.txt'\n",
    "FILE_B = '../Source/27-61b.txt'\n",
    "FILES_LIST = [FILE_TEST, FILE_A, FILE_B]\n",
    "SUMM_ENDING = 50"
   ]
  },
  {
   "cell_type": "code",
   "execution_count": 133,
   "metadata": {},
   "outputs": [],
   "source": [
    "class Elem:\n",
    "    def __init__(self, value: int, is_poped: bool = False):\n",
    "        self.value = value\n",
    "        self.is_poped = is_poped\n",
    "    \n",
    "    def __str__(self):\n",
    "        response = f\"{self.value}, {self.is_poped}\"\n",
    "        return response"
   ]
  },
  {
   "source": [
    "## Решение\n",
    "Прочитаем и отсортируем данные по **не убыванию**."
   ],
   "cell_type": "markdown",
   "metadata": {}
  },
  {
   "cell_type": "code",
   "execution_count": 134,
   "metadata": {},
   "outputs": [],
   "source": [
    "def check(value: int):\n",
    "    if value % 100 == SUMM_ENDING:\n",
    "        return True\n",
    "    return False"
   ]
  },
  {
   "cell_type": "code",
   "execution_count": 135,
   "metadata": {},
   "outputs": [],
   "source": [
    "def count(source: list, keep_depth: bool = False, max_summ: int = 0):\n",
    "    curr_summ = 0\n",
    "    for elem in source:\n",
    "        if not elem.is_poped:\n",
    "            curr_summ += elem.value\n",
    "\n",
    "    if keep_depth:\n",
    "        return curr_summ\n",
    "\n",
    "    for i in range(len(source)):\n",
    "        if source[i].is_poped == False:\n",
    "            source[i].is_poped = True\n",
    "            curr_summ = count(source, keep_depth=True)\n",
    "            source[i].is_poped = False\n",
    "            if check(curr_summ):\n",
    "                max_summ = max(max_summ, curr_summ)\n",
    "\n",
    "    for i in range(len(source)):\n",
    "        if source[i].is_poped == False:\n",
    "            source[i].is_poped = True\n",
    "            max_summ = count(source)\n",
    "            source[i].is_poped = False\n",
    "            if check(curr_summ):\n",
    "                max_summ = max(max_summ, curr_summ)\n",
    "    \n",
    "    return max_summ"
   ]
  },
  {
   "cell_type": "code",
   "execution_count": 136,
   "metadata": {},
   "outputs": [],
   "source": [
    "def find_answer(file_name: str):\n",
    "    FILE_STREAM = open(file_name, FILE_STREAM_SETTINGS['open'])\n",
    "    NUMBERS_COUNT = int(FILE_STREAM.readline())\n",
    "    source = FILE_STREAM.readlines()\n",
    "    source = [int(line.replace('\\n', '')) for line in source]\n",
    "    source.sort()\n",
    "    source = [Elem(elem) for elem in source]\n",
    "\n",
    "    if NUMBERS_COUNT < 41:\n",
    "        print(f'{file_name}:\\n')\n",
    "    print(count(source))"
   ]
  },
  {
   "cell_type": "code",
   "execution_count": 137,
   "metadata": {
    "tags": []
   },
   "outputs": [
    {
     "output_type": "stream",
     "name": "stdout",
     "text": [
      "../Source/27-61t.txt:\n",
      "\n",
      "0\n"
     ]
    }
   ],
   "source": [
    "if __name__ == '__main__':\n",
    "    find_answer(FILE_TEST)"
   ]
  }
 ]
}