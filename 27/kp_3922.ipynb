{
 "cells": [
  {
   "cell_type": "markdown",
   "metadata": {},
   "source": [
    "# (№ 3922)\n",
    "Автор: И. Кобец.\n",
    "\n",
    "[Ссылка на подборку заданий][kp-tasks-27]\n",
    "\n",
    "## Задание\n",
    "Имеется набор данных, состоящий из N различных положительных чисел. Необходимо из этих чисел построить самую длинную возрастающую арифметическую прогрессию c шагом от 1 до 100 включительно и вывести её длину.\n",
    "Входные данные. Даны два входных файла ([файл A][file-a-link] и [файл B][file-b-link]), каждый из которых содержит в первой строке количество чисел N (1 ≤ N ≤ 100000). Каждая из следующих N строк содержит одно натуральное число, не превышающее 10^8^.\n",
    "Пример входного файла:\n",
    "\n",
    "```\n",
    "6\n",
    "1\n",
    "4\n",
    "7\n",
    "3\n",
    "20\n",
    "5\n",
    "```\n",
    "\n",
    "Для указанных входных данных самая большая арифметическая прогрессия будет `{1, 3, 5, 7}` с шагом 2 и длиной 4. Программа должна вывести ответ 4.\n",
    "В ответе укажите два числа: сначала искомое значение для файла А, затем для файла B.\n",
    "\n",
    "<details>\n",
    "    A: 5\n",
    "    <br>\n",
    "    B: 317\n",
    "    <summary>Ответы</summary>\n",
    "</details>\n",
    "\n",
    "\n",
    "[kp-tasks-27]: https://kpolyakov.spb.ru/school/ege/gen.php?action=viewAllEgeNo&egeId=27&cat161=on\n",
    "[file-a-link]: https://kpolyakov.spb.ru/cms/files/ege-stream/62/27-62a.txt\n",
    "[file-b-link]: https://kpolyakov.spb.ru/cms/files/ege-stream/62/27-62b.txt"
   ]
  },
  {
   "source": [
    "## Решение\n",
    "Прочитаем и отсортируем массив данных `по неубыванию`.\n",
    "\n",
    "Нужно только заменить `'../Source/27-62a.txt'` на путь нужному файлу."
   ],
   "cell_type": "markdown",
   "metadata": {}
  },
  {
   "cell_type": "code",
   "execution_count": 1,
   "metadata": {},
   "outputs": [],
   "source": [
    "READ_OPTIONS = {\n",
    "    'open': 'rt'\n",
    "}\n",
    "FILE_A = '../Source/27-62a.txt'\n",
    "FILE_B = '../Source/27-62b.txt'"
   ]
  },
  {
   "source": [
    "|       Переменная | Значение                                                      |\n",
    "|-----------------:|:--------------------------------------------------------------|\n",
    "|         `vector` | Массив чисел                                                  |\n",
    "|     `max_series` | Длина максимальной последовательности, не может быть меньше 2 |"
   ],
   "cell_type": "markdown",
   "metadata": {}
  },
  {
   "cell_type": "code",
   "execution_count": 6,
   "metadata": {},
   "outputs": [],
   "source": [
    "FILE_STREAM = open(FILE_B, READ_OPTIONS['open'])\n",
    "NUMBERS_AMOUNT = int(FILE_STREAM.readline())\n",
    "\n",
    "vector = FILE_STREAM.readlines()\n",
    "FILE_STREAM.close()\n",
    "i = 0\n",
    "for i in range(0, NUMBERS_AMOUNT):\n",
    "    vector[i] = int(vector[i].replace('\\n', ''))\n",
    "vector.sort()\n",
    "\n",
    "max_series = 2"
   ]
  },
  {
   "source": [
    "Создадим словарь. При обращении к неверному ключу мы будем точно знать, что такого элемента нет, дальше можно не искать. "
   ],
   "cell_type": "markdown",
   "metadata": {}
  },
  {
   "cell_type": "code",
   "execution_count": 7,
   "metadata": {},
   "outputs": [],
   "source": [
    "data = {i:i for i in vector}\n",
    "if len(vector) < 41:\n",
    "    print(data)"
   ]
  },
  {
   "source": [
    "|       Переменная | Значение                                                 |\n",
    "|-----------------:|:---------------------------------------------------------|\n",
    "|            `ptr` | Указатель на первый элемент                              |\n",
    "|          `shift` | Сдвиг второго элемента                                   |\n",
    "|          `delta` | Разница между элементами, шаг поиска                     |\n",
    "| `current_series` | Длина текущей последовательности                         |\n",
    "|        `current` | Ключ, по которому проверяется наличие элемента в словаре |"
   ],
   "cell_type": "markdown",
   "metadata": {}
  },
  {
   "cell_type": "code",
   "execution_count": 8,
   "metadata": {},
   "outputs": [],
   "source": [
    "ptr = 0\n",
    "while ptr < NUMBERS_AMOUNT - 1:\n",
    "    shift = 1\n",
    "    while shift + ptr < NUMBERS_AMOUNT:\n",
    "        delta = min(max(vector[shift + ptr] - vector[ptr], 1), 100)\n",
    "        current_series = 2\n",
    "        current = vector[shift + ptr] + delta\n",
    "        while vector[-1] // delta > 1:\n",
    "            try:\n",
    "                data[current]\n",
    "                current += delta\n",
    "                current_series += 1\n",
    "            except KeyError:\n",
    "                break\n",
    "        max_series = max(max_series, current_series)\n",
    "        shift += 1\n",
    "    ptr += 1"
   ]
  },
  {
   "cell_type": "code",
   "execution_count": 9,
   "metadata": {},
   "outputs": [
    {
     "output_type": "stream",
     "name": "stdout",
     "text": [
      "317\n"
     ]
    }
   ],
   "source": [
    "print(max_series)"
   ]
  }
 ],
 "metadata": {
  "kernelspec": {
   "name": "python392jvsc74a57bd0aee8b7b246df8f9039afb4144a1f6fd8d2ca17a180786b69acc140d282b71a49",
   "display_name": "Python 3.9.2 64-bit"
  },
  "language_info": {
   "codemirror_mode": {
    "name": "ipython",
    "version": 3
   },
   "file_extension": ".py",
   "mimetype": "text/x-python",
   "name": "python",
   "nbconvert_exporter": "python",
   "pygments_lexer": "ipython3",
   "version": "3.9.2"
  }
 },
 "nbformat": 4,
 "nbformat_minor": 2
}