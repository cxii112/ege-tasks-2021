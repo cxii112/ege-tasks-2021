{
 "cells": [
  {
   "cell_type": "markdown",
   "metadata": {},
   "source": [
    "# (№ 3922)\n",
    "Автор: И. Кобец.\n",
    "\n",
    "[Ссылка на подборку заданий][kp-tasks-27]\n",
    "\n",
    "## Задание\n",
    "Имеется набор данных, состоящий из N различных положительных чисел. Необходимо из этих чисел построить самую длинную возрастающую арифметическую прогрессию c шагом от 1 до 100 включительно и вывести её длину.\n",
    "Входные данные. Даны два входных файла ([файл A][file-a-link] и [файл B][file-b-link]), каждый из которых содержит в первой строке количество чисел N (1 ≤ N ≤ 100000). Каждая из следующих N строк содержит одно натуральное число, не превышающее 10^8^.\n",
    "Пример входного файла:\n",
    "\n",
    "```\n",
    "6\n",
    "1\n",
    "4\n",
    "7\n",
    "3\n",
    "20\n",
    "5\n",
    "```\n",
    "\n",
    "Для указанных входных данных самая большая арифметическая прогрессия будет `{1, 3, 5, 7}` с шагом 2 и длиной 4. Программа должна вывести ответ 4.\n",
    "В ответе укажите два числа: сначала искомое значение для файла А, затем для файла B.\n",
    "\n",
    "<details>\n",
    "    A: 5\n",
    "    <br>\n",
    "    B: 317\n",
    "    <summary>Ответы</summary>\n",
    "</details>\n",
    "\n",
    "\n",
    "[kp-tasks-27]: https://kpolyakov.spb.ru/school/ege/gen.php?action=viewAllEgeNo&egeId=27&cat161=on\n",
    "[file-a-link]: https://kpolyakov.spb.ru/cms/files/ege-stream/62/27-62a.txt\n",
    "[file-b-link]: https://kpolyakov.spb.ru/cms/files/ege-stream/62/27-62b.txt"
   ]
  },
  {
   "source": [
    "## Решение\n",
    "Прочитаем и отсортируем массив данных `по неубыванию`.\n",
    "\n",
    "Нужно только заменить `'../Source/27-62a.txt'` на путь нужному файлу."
   ],
   "cell_type": "markdown",
   "metadata": {}
  },
  {
   "cell_type": "code",
   "execution_count": 14,
   "metadata": {},
   "outputs": [],
   "source": [
    "class FSOptions:\n",
    "    def __init__(self):\n",
    "        self.open = 'rt'\n",
    "FS_OPT = FSOptions()\n",
    "FILE_A = '../Source/27-62a.txt'\n",
    "FILE_B = '../Source/27-62b.txt'\n",
    "FILES_LIST = [FILE_A, FILE_B]"
   ]
  },
  {
   "source": [
    "|       Переменная | Значение                                                      |\n",
    "|-----------------:|:--------------------------------------------------------------|\n",
    "|         `vector` | Массив чисел                                                  |\n",
    "|     `max_series` | Длина максимальной последовательности, не может быть меньше 2 |"
   ],
   "cell_type": "markdown",
   "metadata": {}
  },
  {
   "cell_type": "code",
   "execution_count": 25,
   "metadata": {},
   "outputs": [],
   "source": [
    "def generate_dict(source: list):\n",
    "    data = {i:i for i in source}\n",
    "    return data"
   ]
  },
  {
   "cell_type": "code",
   "execution_count": 26,
   "metadata": {},
   "outputs": [],
   "source": [
    "def count_max(source_v: list, source_d: dict):\n",
    "    result = 2\n",
    "    for i in range(len(source_v) - 1):\n",
    "        for s in range(100):\n",
    "            curr_max = 1\n",
    "            current = source_v[i]\n",
    "            while True:\n",
    "                try:\n",
    "                    current += s + 1\n",
    "                    source_d[current]\n",
    "                    curr_max += 1\n",
    "                except KeyError:\n",
    "                    result = max(curr_max, result)\n",
    "                    break\n",
    "    return result"
   ]
  },
  {
   "cell_type": "code",
   "execution_count": 27,
   "metadata": {},
   "outputs": [],
   "source": [
    "def find_answer(file_name: str):\n",
    "\n",
    "    FILE_STREAM = open(file_name, FS_OPT.open)\n",
    "    NUMBERS_AMOUNT = int(FILE_STREAM.readline())\n",
    "\n",
    "    vector = FILE_STREAM.readlines()\n",
    "    FILE_STREAM.close()\n",
    "    i = 0\n",
    "    for i in range(0, NUMBERS_AMOUNT):\n",
    "        vector[i] = int(vector[i].replace('\\n', ''))\n",
    "    vector.sort()\n",
    "\n",
    "    max_series = 2\n",
    "    data = generate_dict(vector)\n",
    "    answer = count_max(vector, data)\n",
    "    return answer"
   ]
  },
  {
   "source": [
    "Создадим словарь. При обращении к неверному ключу мы будем точно знать, что такого элемента нет, дальше можно не искать. "
   ],
   "cell_type": "markdown",
   "metadata": {}
  },
  {
   "cell_type": "code",
   "execution_count": 28,
   "metadata": {},
   "outputs": [
    {
     "output_type": "stream",
     "name": "stdout",
     "text": [
      "../Source/27-62a.txt 5\n",
      "../Source/27-62b.txt 317\n"
     ]
    }
   ],
   "source": [
    "if __name__ == '__main__':\n",
    "    for f in FILES_LIST:\n",
    "        a = find_answer(f)\n",
    "        print(f, a)"
   ]
  }
 ],
 "metadata": {
  "kernelspec": {
   "name": "python392jvsc74a57bd0aee8b7b246df8f9039afb4144a1f6fd8d2ca17a180786b69acc140d282b71a49",
   "display_name": "Python 3.9.2 64-bit"
  },
  "language_info": {
   "codemirror_mode": {
    "name": "ipython",
    "version": 3
   },
   "file_extension": ".py",
   "mimetype": "text/x-python",
   "name": "python",
   "nbconvert_exporter": "python",
   "pygments_lexer": "ipython3",
   "version": "3.9.2"
  }
 },
 "nbformat": 4,
 "nbformat_minor": 2
}