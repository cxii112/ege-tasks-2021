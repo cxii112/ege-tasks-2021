{
 "metadata": {
  "language_info": {
   "codemirror_mode": {
    "name": "ipython",
    "version": 3
   },
   "file_extension": ".py",
   "mimetype": "text/x-python",
   "name": "python",
   "nbconvert_exporter": "python",
   "pygments_lexer": "ipython3",
   "version": "3.9.1"
  },
  "orig_nbformat": 2,
  "kernelspec": {
   "name": "python391jvsc74a57bd0a456e107adbeec3783fb6e3e07f4b6238900c0b230375a57713bb3add001b998",
   "display_name": "Python 3.9.1 64-bit"
  }
 },
 "nbformat": 4,
 "nbformat_minor": 2,
 "cells": [
  {
   "source": [
    "# № 3702\n",
    "Автор: --\n",
    "[Ссылка на подборку заданий][kp-tasks]\n",
    "\n",
    "## Задание\n",
    "Набор данных состоит из нечётного количества пар натуральных чисел. Необходимо выбрать из каждой пары ровно одно число так, чтобы сумма выбранных чисел была минимальной при условии, что чётность этой суммы НЕ совпадает с чётностью большинства выбранных чисел. Определите минимальную сумму, которую можно получить при таком условии. Гарантируется, что удовлетворяющий условиям выбор возможен.\n",
    "Входные данные. Даны два входных файла ([файл A][file-a-link] и [файл B][file-b-link]), каждый из которых содержит в первой строке количество чисел N (1 ≤ N ≤ 100000). Каждая из следующих N строк содержит два натуральных числа, не превышающих 10000.\n",
    "Пример входного файла:\n",
    "\n",
    "```\n",
    "5\n",
    "16 7\n",
    "6 11\n",
    "6 9\n",
    "7 2\n",
    "9 14\n",
    "```\n",
    "\n",
    "Для указанных данных надо выбрать числа `7, 6, 6, 2 и 14`. Большинство из них чётны, их сумма 35 нечётна.\n",
    "В ответе укажите два числа: сначала искомое значение для файла А, затем для файла B.\n",
    "\n",
    "<details>\n",
    "    A: 62276\n",
    "    <br>\n",
    "    B: 190343719\n",
    "    <summary>Ответ</summary>\n",
    "</details>\n",
    "\n",
    "\n",
    "[kp-tasks]: https://kpolyakov.spb.ru/school/ege/gen.php?action=viewAllEgeNo&egeId=27&cat161=on\n",
    "[file-a-link]: https://kpolyakov.spb.ru/cms/files/ege-stream/51/27-51a.txt\n",
    "[file-b-link]: https://kpolyakov.spb.ru/cms/files/ege-stream/51/27-51b.txt"
   ],
   "cell_type": "markdown",
   "metadata": {}
  },
  {
   "cell_type": "code",
   "execution_count": 1,
   "metadata": {},
   "outputs": [],
   "source": [
    "class FileStreamSettings:\n",
    "    def __init__(self):\n",
    "        self.open = 'rt'"
   ]
  },
  {
   "cell_type": "code",
   "execution_count": 2,
   "metadata": {},
   "outputs": [],
   "source": [
    "class Atom:\n",
    "    def __init__(self, t: tuple):\n",
    "        self.__left = t[0]\n",
    "        self.__right = t[1]\n",
    "        self.__delta = abs(self.__left - self.__right)\n",
    "        self.__swapped = False\n",
    "    \n",
    "    def get_left(self):\n",
    "        return self.__left\n",
    "\n",
    "    def get_right(self):\n",
    "        return self.__right\n",
    "\n",
    "    def get_value(self):\n",
    "        return (self.__left, self.__right)\n",
    "\n",
    "    def get_delta(self):\n",
    "        return self.__delta\n",
    "\n",
    "    def was_swapped(self):\n",
    "        return self.__swapped\n",
    "\n",
    "    def swap(self, is_swapped: bool = True):\n",
    "        self.__left, self.__right = self.__right, self.__left\n",
    "        self.__delta = abs(self.__left - self.__right)\n",
    "        self.__swapped = is_swapped"
   ]
  },
  {
   "cell_type": "code",
   "execution_count": 3,
   "metadata": {},
   "outputs": [],
   "source": [
    "FILE_TEST = '../Source/27-51test.txt'\n",
    "FILE_A = '../Source/27-51a.txt'\n",
    "FILE_B = '../Source/27-51b.txt'\n",
    "\n",
    "FS_SETTINGS = FileStreamSettings()"
   ]
  },
  {
   "source": [
    "## Решение\n"
   ],
   "cell_type": "markdown",
   "metadata": {}
  },
  {
   "cell_type": "code",
   "execution_count": 4,
   "metadata": {},
   "outputs": [],
   "source": [
    "def check(curr_summ: int, count_even: int, count_odd: int):\n",
    "    result = False\n",
    "    if curr_summ % 2 == 0 and (count_even > count_odd):\n",
    "        result = True\n",
    "    if curr_summ % 2 != 0 and (count_even < count_odd):\n",
    "        result = True\n",
    "    return result"
   ]
  },
  {
   "cell_type": "code",
   "execution_count": 5,
   "metadata": {},
   "outputs": [],
   "source": [
    "def count_summ(source: list):\n",
    "    result = 0\n",
    "    for e in source:\n",
    "        result += e.get_left()\n",
    "    return result"
   ]
  },
  {
   "cell_type": "code",
   "execution_count": 6,
   "metadata": {},
   "outputs": [],
   "source": [
    "def count_even(source: list):\n",
    "    result = 0\n",
    "    for e in source:\n",
    "        if e.get_left() % 2 == 0:\n",
    "            result += 1\n",
    "    return result"
   ]
  },
  {
   "cell_type": "code",
   "execution_count": 7,
   "metadata": {},
   "outputs": [],
   "source": [
    "def generate_data(source: list):\n",
    "    data = []\n",
    "    for e in source:\n",
    "        e = e.replace('\\n', '')\n",
    "        e = e.split(' ')\n",
    "        temp = []\n",
    "        for sub_e in e:\n",
    "            temp.append(int(sub_e))\n",
    "        data.append(Atom(tuple(temp)))\n",
    "    return data"
   ]
  },
  {
   "cell_type": "code",
   "execution_count": 14,
   "metadata": {},
   "outputs": [],
   "source": [
    "def swap(source: list, swap_even: bool):\n",
    "    min_delta_pos = -1\n",
    "    min_delta = 100000000\n",
    "    for i in range(len(source)):\n",
    "        if source[i].was_swapped():\n",
    "            continue\n",
    "\n",
    "        if min_delta > source[i].get_delta():\n",
    "            if not(swap_even == (source[i].get_delta() % 2 == 0)):\n",
    "                min_delta = source[i].get_delta()\n",
    "                min_delta_pos = i\n",
    "\n",
    "    if min_delta_pos > -1:\n",
    "        source[min_delta_pos].swap()\n",
    "    # for e in source:\n",
    "    #     print(e.get_left(), e.get_right())\n",
    "    # print()"
   ]
  },
  {
   "cell_type": "code",
   "execution_count": 15,
   "metadata": {},
   "outputs": [],
   "source": [
    "def find_answer(file_name: str):\n",
    "    file_stream = open(file_name, FS_SETTINGS.open)\n",
    "    file_stream.readline()\n",
    "    raw = file_stream.readlines()\n",
    "    file_stream.close()\n",
    "\n",
    "    data = generate_data(raw)\n",
    "\n",
    "    for e in data:\n",
    "        if e.get_left() > e.get_right():\n",
    "            e.swap(False)\n",
    "    \n",
    "    curr_summ = count_summ(data)\n",
    "    curr_even = count_even(data)\n",
    "    \n",
    "    while check(curr_summ, curr_even, len(data) - curr_even):\n",
    "        swap(data, bool(curr_even > len(data) - curr_even))\n",
    "        curr_summ = count_summ(data)\n",
    "        curr_even = count_even(data)\n",
    "    \n",
    "    return curr_summ"
   ]
  },
  {
   "cell_type": "code",
   "execution_count": 13,
   "metadata": {
    "tags": []
   },
   "outputs": [
    {
     "output_type": "error",
     "ename": "KeyboardInterrupt",
     "evalue": "",
     "traceback": [
      "\u001b[1;31m---------------------------------------------------------------------------\u001b[0m",
      "\u001b[1;31mKeyboardInterrupt\u001b[0m                         Traceback (most recent call last)",
      "\u001b[1;32m<ipython-input-13-3f1837c22d4b>\u001b[0m in \u001b[0;36m<module>\u001b[1;34m\u001b[0m\n\u001b[0;32m      1\u001b[0m \u001b[1;32mif\u001b[0m \u001b[0m__name__\u001b[0m \u001b[1;33m==\u001b[0m \u001b[1;34m'__main__'\u001b[0m\u001b[1;33m:\u001b[0m\u001b[1;33m\u001b[0m\u001b[1;33m\u001b[0m\u001b[0m\n\u001b[1;32m----> 2\u001b[1;33m     \u001b[0mprint\u001b[0m\u001b[1;33m(\u001b[0m\u001b[0mfind_answer\u001b[0m\u001b[1;33m(\u001b[0m\u001b[0mFILE_TEST\u001b[0m\u001b[1;33m)\u001b[0m\u001b[1;33m)\u001b[0m\u001b[1;33m\u001b[0m\u001b[1;33m\u001b[0m\u001b[0m\n\u001b[0m",
      "\u001b[1;32m<ipython-input-12-395c92bd9197>\u001b[0m in \u001b[0;36mfind_answer\u001b[1;34m(file_name)\u001b[0m\n\u001b[0;32m     15\u001b[0m \u001b[1;33m\u001b[0m\u001b[0m\n\u001b[0;32m     16\u001b[0m     \u001b[1;32mwhile\u001b[0m \u001b[0mcheck\u001b[0m\u001b[1;33m(\u001b[0m\u001b[0mcurr_summ\u001b[0m\u001b[1;33m,\u001b[0m \u001b[0mcurr_even\u001b[0m\u001b[1;33m,\u001b[0m \u001b[0mlen\u001b[0m\u001b[1;33m(\u001b[0m\u001b[0mdata\u001b[0m\u001b[1;33m)\u001b[0m \u001b[1;33m-\u001b[0m \u001b[0mcurr_even\u001b[0m\u001b[1;33m)\u001b[0m\u001b[1;33m:\u001b[0m\u001b[1;33m\u001b[0m\u001b[1;33m\u001b[0m\u001b[0m\n\u001b[1;32m---> 17\u001b[1;33m         \u001b[0mswap\u001b[0m\u001b[1;33m(\u001b[0m\u001b[0mdata\u001b[0m\u001b[1;33m,\u001b[0m \u001b[0mbool\u001b[0m\u001b[1;33m(\u001b[0m\u001b[0mcurr_even\u001b[0m \u001b[1;33m>\u001b[0m \u001b[0mlen\u001b[0m\u001b[1;33m(\u001b[0m\u001b[0mdata\u001b[0m\u001b[1;33m)\u001b[0m \u001b[1;33m-\u001b[0m \u001b[0mcurr_even\u001b[0m\u001b[1;33m)\u001b[0m\u001b[1;33m)\u001b[0m\u001b[1;33m\u001b[0m\u001b[1;33m\u001b[0m\u001b[0m\n\u001b[0m\u001b[0;32m     18\u001b[0m         \u001b[0mcurr_summ\u001b[0m \u001b[1;33m=\u001b[0m \u001b[0mcount_summ\u001b[0m\u001b[1;33m(\u001b[0m\u001b[0mdata\u001b[0m\u001b[1;33m)\u001b[0m\u001b[1;33m\u001b[0m\u001b[1;33m\u001b[0m\u001b[0m\n\u001b[0;32m     19\u001b[0m         \u001b[0mcurr_even\u001b[0m \u001b[1;33m=\u001b[0m \u001b[0mcount_even\u001b[0m\u001b[1;33m(\u001b[0m\u001b[0mdata\u001b[0m\u001b[1;33m)\u001b[0m\u001b[1;33m\u001b[0m\u001b[1;33m\u001b[0m\u001b[0m\n",
      "\u001b[1;32m<ipython-input-11-0f037b15a96e>\u001b[0m in \u001b[0;36mswap\u001b[1;34m(source, swap_even)\u001b[0m\n\u001b[0;32m      3\u001b[0m     \u001b[0mmin_delta\u001b[0m \u001b[1;33m=\u001b[0m \u001b[1;36m100000000\u001b[0m\u001b[1;33m\u001b[0m\u001b[1;33m\u001b[0m\u001b[0m\n\u001b[0;32m      4\u001b[0m     \u001b[1;32mfor\u001b[0m \u001b[0mi\u001b[0m \u001b[1;32min\u001b[0m \u001b[0mrange\u001b[0m\u001b[1;33m(\u001b[0m\u001b[0mlen\u001b[0m\u001b[1;33m(\u001b[0m\u001b[0msource\u001b[0m\u001b[1;33m)\u001b[0m\u001b[1;33m)\u001b[0m\u001b[1;33m:\u001b[0m\u001b[1;33m\u001b[0m\u001b[1;33m\u001b[0m\u001b[0m\n\u001b[1;32m----> 5\u001b[1;33m         \u001b[1;32mif\u001b[0m \u001b[0msource\u001b[0m\u001b[1;33m[\u001b[0m\u001b[0mi\u001b[0m\u001b[1;33m]\u001b[0m\u001b[1;33m.\u001b[0m\u001b[0mwas_swapped\u001b[0m\u001b[1;33m(\u001b[0m\u001b[1;33m)\u001b[0m\u001b[1;33m:\u001b[0m\u001b[1;33m\u001b[0m\u001b[1;33m\u001b[0m\u001b[0m\n\u001b[0m\u001b[0;32m      6\u001b[0m             \u001b[1;32mcontinue\u001b[0m\u001b[1;33m\u001b[0m\u001b[1;33m\u001b[0m\u001b[0m\n\u001b[0;32m      7\u001b[0m \u001b[1;33m\u001b[0m\u001b[0m\n",
      "\u001b[1;31mKeyboardInterrupt\u001b[0m: "
     ]
    }
   ],
   "source": [
    "if __name__ == '__main__':\n",
    "    print(find_answer(FILE_TEST))"
   ]
  }
 ]
}