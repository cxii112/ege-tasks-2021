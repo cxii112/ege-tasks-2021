{
 "metadata": {
  "language_info": {
   "codemirror_mode": {
    "name": "ipython",
    "version": 3
   },
   "file_extension": ".py",
   "mimetype": "text/x-python",
   "name": "python",
   "nbconvert_exporter": "python",
   "pygments_lexer": "ipython3",
   "version": "3.9.1"
  },
  "orig_nbformat": 2,
  "kernelspec": {
   "name": "python391jvsc74a57bd0a456e107adbeec3783fb6e3e07f4b6238900c0b230375a57713bb3add001b998",
   "display_name": "Python 3.9.1 64-bit"
  }
 },
 "nbformat": 4,
 "nbformat_minor": 2,
 "cells": [
  {
   "source": [
    "# № 4102\n",
    "Автор: Е. Джобс\n",
    "[Ссылка на подборку заданий][kp-tasks]\n",
    "\n",
    "## Задание\n",
    "Для перевозки партии грузов различной массы выкупают место у компании, которая организует перевозку на грузовых судах. Судно не может принять на борт больше S тонн груза. Известно, что отдельный груз нельзя разделить для перевозки, то есть один груз должен доставляться одним рейсом на одном грузовом судне. В первую очередь перевозятся грузы как можно большей массы. За какое минимальное количество рейсов можно перевезти все грузы?\n",
    "Входные данные представлены в файле 26-55.txt следующим образом. В первой строке входного файла записаны два целых числа: N – общее количество грузов и S – грузоподъёмность судна в тоннах. Каждая из следующих N строк содержит одно целое число < S – массу груза в тоннах.\n",
    "В ответе запишите два числа – минимальное количество рейсов и суммарную массу грузов, которые будут перевезены последним рейсом.\n",
    "Пример входного файла:\n",
    "\n",
    "```\n",
    "6 500\n",
    "140\n",
    "150\n",
    "160\n",
    "200\n",
    "220\n",
    "240\n",
    "```\n",
    "\n",
    "Первым рейсом будет отправлено 2 груза – 240 и 220, вторым – 200, 160 и 140, третьим – 150. При таких входных данных ответ будет 3 и 150.\n",
    "\n",
    "<details>\n",
    "    423 501\n",
    "    <summary>Ответ</summary>\n",
    "</details>\n",
    "\n",
    "\n",
    "[kp-tasks]: https://kpolyakov.spb.ru/school/ege/gen.php?action=viewAllEgeNo&egeId=26&cat160=on\n",
    "[file-a-link]: https://kpolyakov.spb.ru/cms/files/ege-sort/26-55.txt"
   ],
   "cell_type": "markdown",
   "metadata": {}
  },
  {
   "cell_type": "code",
   "execution_count": 5,
   "metadata": {},
   "outputs": [],
   "source": [
    "class FileStreamSettings:\n",
    "    def __init__(self):\n",
    "        self.open = 'rt'"
   ]
  },
  {
   "cell_type": "code",
   "execution_count": 17,
   "metadata": {},
   "outputs": [],
   "source": [
    "FILE_NAME = '../Source/26-55.txt'\n",
    "TEST_FILE_NAME = '../Source/26-55test.txt'\n",
    "FS_SETTINGS = FileStreamSettings()"
   ]
  },
  {
   "cell_type": "code",
   "execution_count": 21,
   "metadata": {},
   "outputs": [],
   "source": [
    "def read_from_file(file_name: str):\n",
    "    file_stream = open(file_name, FS_SETTINGS.open)\n",
    "    capacity = int(file_stream.readline().split(' ')[-1])\n",
    "    raw = file_stream.readlines()\n",
    "    result = [int(l.replace('\\n', '')) for l in raw]\n",
    "    return capacity, result"
   ]
  },
  {
   "cell_type": "code",
   "execution_count": null,
   "metadata": {},
   "outputs": [],
   "source": [
    "def find_max(source: list, max_capacity: int):\n",
    "    result = max(source)\n",
    "    for i in range(len(result)):\n",
    "        if source[i] == result:\n",
    "            source.pop(i)\n",
    "    if result <= max_capacity:\n",
    "        return result\n",
    "    else:\n",
    "        return -1"
   ]
  },
  {
   "cell_type": "code",
   "execution_count": 22,
   "metadata": {},
   "outputs": [],
   "source": [
    "def find_answer(file_name: str):\n",
    "    capacity, source = read_from_file(file_name)\n",
    "    source.sort()\n",
    "\n",
    "     \n",
    "\n",
    "    return capacity, source"
   ]
  },
  {
   "cell_type": "code",
   "execution_count": 23,
   "metadata": {},
   "outputs": [
    {
     "output_type": "stream",
     "name": "stdout",
     "text": [
      "(500, [140, 150, 160, 200, 220, 240])\n"
     ]
    }
   ],
   "source": [
    "if __name__ == '__main__':\n",
    "    print(find_answer(TEST_FILE_NAME))"
   ]
  },
  {
   "cell_type": "code",
   "execution_count": null,
   "metadata": {},
   "outputs": [],
   "source": []
  }
 ]
}